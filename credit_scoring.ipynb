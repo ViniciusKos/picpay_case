{
 "cells": [
  {
   "cell_type": "code",
   "execution_count": 1,
   "metadata": {},
   "outputs": [],
   "source": [
    "import pandas as pd\n",
    "import numpy as np\n",
    "from sklearn.model_selection import train_test_split\n",
    "from xgboost import XGBClassifier"
   ]
  },
  {
   "attachments": {},
   "cell_type": "markdown",
   "metadata": {},
   "source": [
    "# 0.0 Data import"
   ]
  },
  {
   "cell_type": "code",
   "execution_count": 28,
   "metadata": {},
   "outputs": [
    {
     "name": "stdout",
     "output_type": "stream",
     "text": [
      "(5284, 80) (5454, 80)\n"
     ]
    },
    {
     "data": {
      "text/html": [
       "<div>\n",
       "<style scoped>\n",
       "    .dataframe tbody tr th:only-of-type {\n",
       "        vertical-align: middle;\n",
       "    }\n",
       "\n",
       "    .dataframe tbody tr th {\n",
       "        vertical-align: top;\n",
       "    }\n",
       "\n",
       "    .dataframe thead th {\n",
       "        text-align: right;\n",
       "    }\n",
       "</style>\n",
       "<table border=\"1\" class=\"dataframe\">\n",
       "  <thead>\n",
       "    <tr style=\"text-align: right;\">\n",
       "      <th></th>\n",
       "      <th>safra</th>\n",
       "      <th>y</th>\n",
       "      <th>var_1</th>\n",
       "      <th>var_2</th>\n",
       "      <th>var_3</th>\n",
       "      <th>var_4</th>\n",
       "      <th>var_5</th>\n",
       "      <th>var_6</th>\n",
       "      <th>var_7</th>\n",
       "      <th>var_8</th>\n",
       "      <th>...</th>\n",
       "      <th>var_69</th>\n",
       "      <th>var_70</th>\n",
       "      <th>var_71</th>\n",
       "      <th>var_72</th>\n",
       "      <th>var_73</th>\n",
       "      <th>var_74</th>\n",
       "      <th>var_75</th>\n",
       "      <th>var_76</th>\n",
       "      <th>var_77</th>\n",
       "      <th>var_78</th>\n",
       "    </tr>\n",
       "    <tr>\n",
       "      <th>id</th>\n",
       "      <th></th>\n",
       "      <th></th>\n",
       "      <th></th>\n",
       "      <th></th>\n",
       "      <th></th>\n",
       "      <th></th>\n",
       "      <th></th>\n",
       "      <th></th>\n",
       "      <th></th>\n",
       "      <th></th>\n",
       "      <th></th>\n",
       "      <th></th>\n",
       "      <th></th>\n",
       "      <th></th>\n",
       "      <th></th>\n",
       "      <th></th>\n",
       "      <th></th>\n",
       "      <th></th>\n",
       "      <th></th>\n",
       "      <th></th>\n",
       "      <th></th>\n",
       "    </tr>\n",
       "  </thead>\n",
       "  <tbody>\n",
       "    <tr>\n",
       "      <th>2</th>\n",
       "      <td>201407</td>\n",
       "      <td>0</td>\n",
       "      <td>64.0</td>\n",
       "      <td>0.0</td>\n",
       "      <td>2.0</td>\n",
       "      <td>1.0</td>\n",
       "      <td>47.92</td>\n",
       "      <td>2443.0</td>\n",
       "      <td>84.72</td>\n",
       "      <td>NaN</td>\n",
       "      <td>...</td>\n",
       "      <td>707.84</td>\n",
       "      <td>NaN</td>\n",
       "      <td>NaN</td>\n",
       "      <td>187.0</td>\n",
       "      <td>NaN</td>\n",
       "      <td>NaN</td>\n",
       "      <td>NaN</td>\n",
       "      <td>184.69</td>\n",
       "      <td>54.0</td>\n",
       "      <td>NaN</td>\n",
       "    </tr>\n",
       "    <tr>\n",
       "      <th>4</th>\n",
       "      <td>201412</td>\n",
       "      <td>0</td>\n",
       "      <td>0.0</td>\n",
       "      <td>0.0</td>\n",
       "      <td>0.0</td>\n",
       "      <td>0.0</td>\n",
       "      <td>10.58</td>\n",
       "      <td>3796.0</td>\n",
       "      <td>NaN</td>\n",
       "      <td>NaN</td>\n",
       "      <td>...</td>\n",
       "      <td>119.96</td>\n",
       "      <td>23.0</td>\n",
       "      <td>0.0</td>\n",
       "      <td>417.0</td>\n",
       "      <td>0.0</td>\n",
       "      <td>0.0</td>\n",
       "      <td>NaN</td>\n",
       "      <td>NaN</td>\n",
       "      <td>0.0</td>\n",
       "      <td>0.0</td>\n",
       "    </tr>\n",
       "    <tr>\n",
       "      <th>8</th>\n",
       "      <td>201409</td>\n",
       "      <td>0</td>\n",
       "      <td>0.0</td>\n",
       "      <td>0.0</td>\n",
       "      <td>0.0</td>\n",
       "      <td>0.0</td>\n",
       "      <td>NaN</td>\n",
       "      <td>301.0</td>\n",
       "      <td>NaN</td>\n",
       "      <td>NaN</td>\n",
       "      <td>...</td>\n",
       "      <td>NaN</td>\n",
       "      <td>NaN</td>\n",
       "      <td>NaN</td>\n",
       "      <td>301.0</td>\n",
       "      <td>NaN</td>\n",
       "      <td>NaN</td>\n",
       "      <td>NaN</td>\n",
       "      <td>NaN</td>\n",
       "      <td>NaN</td>\n",
       "      <td>NaN</td>\n",
       "    </tr>\n",
       "  </tbody>\n",
       "</table>\n",
       "<p>3 rows × 80 columns</p>\n",
       "</div>"
      ],
      "text/plain": [
       "     safra  y  var_1  var_2  var_3  var_4  var_5   var_6  var_7  var_8  ...  \\\n",
       "id                                                                      ...   \n",
       "2   201407  0   64.0    0.0    2.0    1.0  47.92  2443.0  84.72    NaN  ...   \n",
       "4   201412  0    0.0    0.0    0.0    0.0  10.58  3796.0    NaN    NaN  ...   \n",
       "8   201409  0    0.0    0.0    0.0    0.0    NaN   301.0    NaN    NaN  ...   \n",
       "\n",
       "    var_69  var_70  var_71  var_72  var_73  var_74  var_75  var_76  var_77  \\\n",
       "id                                                                           \n",
       "2   707.84     NaN     NaN   187.0     NaN     NaN     NaN  184.69    54.0   \n",
       "4   119.96    23.0     0.0   417.0     0.0     0.0     NaN     NaN     0.0   \n",
       "8      NaN     NaN     NaN   301.0     NaN     NaN     NaN     NaN     NaN   \n",
       "\n",
       "    var_78  \n",
       "id          \n",
       "2      NaN  \n",
       "4      0.0  \n",
       "8      NaN  \n",
       "\n",
       "[3 rows x 80 columns]"
      ]
     },
     "execution_count": 28,
     "metadata": {},
     "output_type": "execute_result"
    }
   ],
   "source": [
    "df0 = pd.read_csv(\"base_modelo.csv\", index_col=\"id\")\n",
    "df0.columns = df0.columns.str.lower()\n",
    "test = df0[df0['safra']<=201406]\n",
    "df0 = df0[df0['safra']>=201407]\n",
    "print( df0.shape, test.shape )\n",
    "df0.head(3)"
   ]
  },
  {
   "cell_type": "markdown",
   "metadata": {},
   "source": [
    "# 1.0 Data Description"
   ]
  },
  {
   "attachments": {},
   "cell_type": "markdown",
   "metadata": {},
   "source": [
    "## 1.1 data types"
   ]
  },
  {
   "cell_type": "code",
   "execution_count": 29,
   "metadata": {},
   "outputs": [],
   "source": [
    "df1 = df0.copy()"
   ]
  },
  {
   "cell_type": "code",
   "execution_count": 30,
   "metadata": {},
   "outputs": [
    {
     "data": {
      "text/plain": [
       "2"
      ]
     },
     "execution_count": 30,
     "metadata": {},
     "output_type": "execute_result"
    }
   ],
   "source": [
    "df1.dtypes.nunique()"
   ]
  },
  {
   "cell_type": "code",
   "execution_count": 31,
   "metadata": {},
   "outputs": [
    {
     "data": {
      "text/plain": [
       "safra       int64\n",
       "y           int64\n",
       "var_1     float64\n",
       "var_2     float64\n",
       "var_3     float64\n",
       "           ...   \n",
       "var_74    float64\n",
       "var_75    float64\n",
       "var_76    float64\n",
       "var_77    float64\n",
       "var_78    float64\n",
       "Length: 80, dtype: object"
      ]
     },
     "execution_count": 31,
     "metadata": {},
     "output_type": "execute_result"
    }
   ],
   "source": [
    "df1.dtypes"
   ]
  },
  {
   "cell_type": "markdown",
   "metadata": {},
   "source": [
    "## 1.2 null values"
   ]
  },
  {
   "cell_type": "code",
   "execution_count": 32,
   "metadata": {},
   "outputs": [
    {
     "data": {
      "text/plain": [
       "var_62    0.767790\n",
       "var_70    0.753596\n",
       "var_61    0.702687\n",
       "var_47    0.683952\n",
       "var_16    0.683952\n",
       "            ...   \n",
       "var_60    0.000000\n",
       "y         0.000000\n",
       "var_57    0.000000\n",
       "var_20    0.000000\n",
       "safra     0.000000\n",
       "Length: 80, dtype: float64"
      ]
     },
     "execution_count": 32,
     "metadata": {},
     "output_type": "execute_result"
    }
   ],
   "source": [
    "(df1.isnull().sum()/len(df1)).sort_values(ascending=False)"
   ]
  },
  {
   "cell_type": "markdown",
   "metadata": {},
   "source": [
    "## 1.3 data dimension"
   ]
  },
  {
   "cell_type": "code",
   "execution_count": 33,
   "metadata": {},
   "outputs": [
    {
     "data": {
      "text/plain": [
       "(5284, 80)"
      ]
     },
     "execution_count": 33,
     "metadata": {},
     "output_type": "execute_result"
    }
   ],
   "source": [
    "df1.shape"
   ]
  },
  {
   "attachments": {},
   "cell_type": "markdown",
   "metadata": {},
   "source": [
    "# 2.0 FEATURE ENGINEERING"
   ]
  },
  {
   "cell_type": "code",
   "execution_count": 34,
   "metadata": {},
   "outputs": [],
   "source": [
    "df2 = df1.copy()"
   ]
  },
  {
   "attachments": {},
   "cell_type": "markdown",
   "metadata": {},
   "source": [
    "# 3.0 FEATURE FILTERING"
   ]
  },
  {
   "cell_type": "code",
   "execution_count": 35,
   "metadata": {},
   "outputs": [],
   "source": [
    "df3 = df2.copy()"
   ]
  },
  {
   "cell_type": "markdown",
   "metadata": {},
   "source": [
    "# 4.0 EDA"
   ]
  },
  {
   "cell_type": "code",
   "execution_count": 36,
   "metadata": {},
   "outputs": [],
   "source": [
    "df4 = df3.copy()"
   ]
  },
  {
   "cell_type": "code",
   "execution_count": 37,
   "metadata": {},
   "outputs": [
    {
     "data": {
      "text/plain": [
       "0.30299015897047693"
      ]
     },
     "execution_count": 37,
     "metadata": {},
     "output_type": "execute_result"
    }
   ],
   "source": [
    "df4['y'].mean()"
   ]
  },
  {
   "cell_type": "code",
   "execution_count": 38,
   "metadata": {},
   "outputs": [
    {
     "data": {
      "text/plain": [
       "201407    968\n",
       "201408    912\n",
       "201409    877\n",
       "201410    933\n",
       "201411    808\n",
       "201412    786\n",
       "Name: safra, dtype: int64"
      ]
     },
     "execution_count": 38,
     "metadata": {},
     "output_type": "execute_result"
    }
   ],
   "source": [
    "df4['safra'].value_counts().sort_index()"
   ]
  },
  {
   "attachments": {},
   "cell_type": "markdown",
   "metadata": {},
   "source": [
    "# 5.0 DATA PREPARATION"
   ]
  },
  {
   "cell_type": "code",
   "execution_count": 39,
   "metadata": {},
   "outputs": [],
   "source": [
    "df5 = df4.copy()"
   ]
  },
  {
   "attachments": {},
   "cell_type": "markdown",
   "metadata": {},
   "source": [
    "# 6.0 FEATURE SELECTION"
   ]
  },
  {
   "cell_type": "code",
   "execution_count": 40,
   "metadata": {},
   "outputs": [],
   "source": [
    "df6 = df5.copy()"
   ]
  },
  {
   "cell_type": "markdown",
   "metadata": {},
   "source": [
    "## 6.1 Split into train and test"
   ]
  },
  {
   "cell_type": "code",
   "execution_count": 41,
   "metadata": {},
   "outputs": [],
   "source": [
    "Xtrain, ytrain = df6.drop(['y'], axis=1) , df6['y']\n",
    "Xtest, ytest = test.drop(['y'], axis=1) , test['y']"
   ]
  },
  {
   "cell_type": "markdown",
   "metadata": {},
   "source": [
    "# 7.0 Machine Learning Modeling"
   ]
  },
  {
   "cell_type": "code",
   "execution_count": 42,
   "metadata": {},
   "outputs": [
    {
     "data": {
      "text/plain": [
       "0.30299015897047693"
      ]
     },
     "execution_count": 42,
     "metadata": {},
     "output_type": "execute_result"
    }
   ],
   "source": [
    "df7 = df6.copy()\n",
    "df6['y'].mean()"
   ]
  },
  {
   "cell_type": "code",
   "execution_count": 58,
   "metadata": {},
   "outputs": [],
   "source": [
    "from sklearn.metrics import f1_score, precision_score, recall_score, precision_recall_fscore_support, accuracy_score\n",
    "from xgboost import plot_importance\n",
    "import numpy as np\n",
    "\n",
    "def f1_eval(y_pred, dtrain):\n",
    "    y_true = dtrain.get_label()\n",
    "    err = 1-f1_score(y_true, np.round(y_pred))\n",
    "    return 'f1_err', err"
   ]
  },
  {
   "cell_type": "code",
   "execution_count": 53,
   "metadata": {},
   "outputs": [
    {
     "data": {
      "text/plain": [
       "(array([0.99485234, 0.99309479]),\n",
       " array([0.9970133 , 0.98813242]),\n",
       " array([0.99593165, 0.99060739]),\n",
       " array([3683, 1601], dtype=int64))"
      ]
     },
     "execution_count": 53,
     "metadata": {},
     "output_type": "execute_result"
    }
   ],
   "source": [
    "#model\n",
    "xgbc = XGBClassifier( n_estimators=100, random_state=42, objective='binary:logistic').fit( Xtrain, ytrain )\n",
    "\n",
    "ypred = xgbc.predict(Xtrain)\n",
    "\n",
    "precision_recall_fscore_support(ytrain, ypred)"
   ]
  },
  {
   "cell_type": "code",
   "execution_count": 54,
   "metadata": {},
   "outputs": [
    {
     "data": {
      "text/plain": [
       "(array([0.82652571, 0.62306502]),\n",
       " array([0.87598676, 0.52717747]),\n",
       " array([0.85053777, 0.57112451]),\n",
       " array([3927, 1527], dtype=int64))"
      ]
     },
     "execution_count": 54,
     "metadata": {},
     "output_type": "execute_result"
    }
   ],
   "source": [
    "ypred = xgbc.predict(Xtest)\n",
    "\n",
    "precision_recall_fscore_support(ytest, ypred)"
   ]
  },
  {
   "cell_type": "code",
   "execution_count": 59,
   "metadata": {},
   "outputs": [
    {
     "data": {
      "text/plain": [
       "<AxesSubplot: title={'center': 'Feature importance'}, xlabel='F score', ylabel='Features'>"
      ]
     },
     "execution_count": 59,
     "metadata": {},
     "output_type": "execute_result"
    },
    {
     "data": {
      "image/png": "[encoded data removed]",
      "text/plain": [
       "<Figure size 640x480 with 1 Axes>"
      ]
     },
     "metadata": {},
     "output_type": "display_data"
    }
   ],
   "source": [
    "plot_importance(xgbc)"
   ]
  },
  {
   "cell_type": "code",
   "execution_count": 56,
   "metadata": {},
   "outputs": [
    {
     "name": "stderr",
     "output_type": "stream",
     "text": [
      "100%|██████████| 29/29 [00:46<00:00,  1.60s/it]"
     ]
    },
    {
     "name": "stdout",
     "output_type": "stream",
     "text": [
      "                               Accuracy  Balanced Accuracy  ROC AUC  F1 Score  \\\n",
      "Model                                                                           \n",
      "LGBMClassifier                     0.78               0.70     0.70      0.77   \n",
      "XGBClassifier                      0.78               0.69     0.69      0.77   \n",
      "AdaBoostClassifier                 0.76               0.68     0.68      0.76   \n",
      "LinearDiscriminantAnalysis         0.80               0.68     0.68      0.78   \n",
      "LinearSVC                          0.80               0.68     0.68      0.78   \n",
      "ExtraTreesClassifier               0.78               0.67     0.67      0.76   \n",
      "RidgeClassifier                    0.80               0.67     0.67      0.77   \n",
      "RidgeClassifierCV                  0.80               0.67     0.67      0.77   \n",
      "LogisticRegression                 0.80               0.67     0.67      0.77   \n",
      "CalibratedClassifierCV             0.80               0.67     0.67      0.77   \n",
      "RandomForestClassifier             0.78               0.67     0.67      0.76   \n",
      "SGDClassifier                      0.76               0.67     0.67      0.75   \n",
      "KNeighborsClassifier               0.75               0.66     0.66      0.74   \n",
      "BaggingClassifier                  0.76               0.66     0.66      0.75   \n",
      "NearestCentroid                    0.62               0.66     0.66      0.63   \n",
      "SVC                                0.78               0.65     0.65      0.75   \n",
      "NuSVC                              0.78               0.65     0.65      0.75   \n",
      "BernoulliNB                        0.61               0.63     0.63      0.63   \n",
      "DecisionTreeClassifier             0.68               0.62     0.62      0.68   \n",
      "Perceptron                         0.74               0.62     0.62      0.72   \n",
      "LabelPropagation                   0.70               0.60     0.60      0.69   \n",
      "LabelSpreading                     0.70               0.60     0.60      0.69   \n",
      "GaussianNB                         0.47               0.58     0.58      0.47   \n",
      "ExtraTreeClassifier                0.65               0.58     0.58      0.65   \n",
      "QuadraticDiscriminantAnalysis      0.47               0.57     0.57      0.47   \n",
      "PassiveAggressiveClassifier        0.69               0.52     0.52      0.63   \n",
      "DummyClassifier                    0.72               0.50     0.50      0.60   \n",
      "\n",
      "                               Time Taken  \n",
      "Model                                      \n",
      "LGBMClassifier                       0.93  \n",
      "XGBClassifier                        1.16  \n",
      "AdaBoostClassifier                   1.94  \n",
      "LinearDiscriminantAnalysis           0.33  \n",
      "LinearSVC                            1.32  \n",
      "ExtraTreesClassifier                 1.96  \n",
      "RidgeClassifier                      0.13  \n",
      "RidgeClassifierCV                    0.19  \n",
      "LogisticRegression                   0.22  \n",
      "CalibratedClassifierCV               7.43  \n",
      "RandomForestClassifier               3.09  \n",
      "SGDClassifier                        0.20  \n",
      "KNeighborsClassifier                 0.70  \n",
      "BaggingClassifier                    3.02  \n",
      "NearestCentroid                      0.07  \n",
      "SVC                                  5.95  \n",
      "NuSVC                                6.93  \n",
      "BernoulliNB                          0.12  \n",
      "DecisionTreeClassifier               0.48  \n",
      "Perceptron                           0.09  \n",
      "LabelPropagation                     4.58  \n",
      "LabelSpreading                       4.71  \n",
      "GaussianNB                           0.10  \n",
      "ExtraTreeClassifier                  0.12  \n",
      "QuadraticDiscriminantAnalysis        0.34  \n",
      "PassiveAggressiveClassifier          0.11  \n",
      "DummyClassifier                      0.09  \n"
     ]
    },
    {
     "name": "stderr",
     "output_type": "stream",
     "text": [
      "\n"
     ]
    }
   ],
   "source": [
    "from lazypredict.Supervised import LazyClassifier\n",
    "\n",
    "clf = LazyClassifier(verbose=0,ignore_warnings=True, custom_metric=None)\n",
    "models,predictions = clf.fit(Xtrain, Xtest, ytrain, ytest)\n",
    "\n",
    "print(models)"
   ]
  },
  {
   "cell_type": "code",
   "execution_count": null,
   "metadata": {},
   "outputs": [],
   "source": []
  }
 ],
 "metadata": {
  "kernelspec": {
   "display_name": "picpay_env",
   "language": "python",
   "name": "python3"
  },
  "language_info": {
   "codemirror_mode": {
    "name": "ipython",
    "version": 3
   },
   "file_extension": ".py",
   "mimetype": "text/x-python",
   "name": "python",
   "nbconvert_exporter": "python",
   "pygments_lexer": "ipython3",
   "version": "3.10.4"
  },
  "toc-autonumbering": true,
  "toc-showmarkdowntxt": true,
  "toc-showtags": false,
  "vscode": {
   "interpreter": {
    "hash": "ea71819249b692f77a0043d29487f5401da217b2ca6f03a53fdff75368b7c39f"
   }
  }
 },
 "nbformat": 4,
 "nbformat_minor": 4
}
