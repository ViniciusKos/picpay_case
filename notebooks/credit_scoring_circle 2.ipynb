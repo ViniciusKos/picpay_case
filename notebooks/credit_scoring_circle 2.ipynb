{
 "cells": [
  {
   "attachments": {},
   "cell_type": "markdown",
   "metadata": {},
   "source": [
    "# Lib Import"
   ]
  },
  {
   "cell_type": "code",
   "execution_count": 1,
   "metadata": {},
   "outputs": [],
   "source": [
    "import pickle\n",
    "import pandas                   as pd\n",
    "import numpy                    as np\n",
    "from sklearn.metrics            import f1_score, precision_score, recall_score, precision_recall_fscore_support, accuracy_score\n",
    "from xgboost                    import plot_importance\n",
    "from sklearn.model_selection    import train_test_split\n",
    "from xgboost                    import XGBClassifier\n",
    "from sklearn.preprocessing      import MinMaxScaler, StandardScaler, RobustScaler"
   ]
  },
  {
   "attachments": {},
   "cell_type": "markdown",
   "metadata": {},
   "source": [
    "# 0.0 Data import"
   ]
  },
  {
   "cell_type": "code",
   "execution_count": 2,
   "metadata": {},
   "outputs": [
    {
     "name": "stdout",
     "output_type": "stream",
     "text": [
      "(5454, 80) (5284, 80)\n"
     ]
    },
    {
     "data": {
      "text/html": [
       "<div>\n",
       "<style scoped>\n",
       "    .dataframe tbody tr th:only-of-type {\n",
       "        vertical-align: middle;\n",
       "    }\n",
       "\n",
       "    .dataframe tbody tr th {\n",
       "        vertical-align: top;\n",
       "    }\n",
       "\n",
       "    .dataframe thead th {\n",
       "        text-align: right;\n",
       "    }\n",
       "</style>\n",
       "<table border=\"1\" class=\"dataframe\">\n",
       "  <thead>\n",
       "    <tr style=\"text-align: right;\">\n",
       "      <th></th>\n",
       "      <th>safra</th>\n",
       "      <th>y</th>\n",
       "      <th>var_1</th>\n",
       "      <th>var_2</th>\n",
       "      <th>var_3</th>\n",
       "      <th>var_4</th>\n",
       "      <th>var_5</th>\n",
       "      <th>var_6</th>\n",
       "      <th>var_7</th>\n",
       "      <th>var_8</th>\n",
       "      <th>...</th>\n",
       "      <th>var_69</th>\n",
       "      <th>var_70</th>\n",
       "      <th>var_71</th>\n",
       "      <th>var_72</th>\n",
       "      <th>var_73</th>\n",
       "      <th>var_74</th>\n",
       "      <th>var_75</th>\n",
       "      <th>var_76</th>\n",
       "      <th>var_77</th>\n",
       "      <th>var_78</th>\n",
       "    </tr>\n",
       "    <tr>\n",
       "      <th>id</th>\n",
       "      <th></th>\n",
       "      <th></th>\n",
       "      <th></th>\n",
       "      <th></th>\n",
       "      <th></th>\n",
       "      <th></th>\n",
       "      <th></th>\n",
       "      <th></th>\n",
       "      <th></th>\n",
       "      <th></th>\n",
       "      <th></th>\n",
       "      <th></th>\n",
       "      <th></th>\n",
       "      <th></th>\n",
       "      <th></th>\n",
       "      <th></th>\n",
       "      <th></th>\n",
       "      <th></th>\n",
       "      <th></th>\n",
       "      <th></th>\n",
       "      <th></th>\n",
       "    </tr>\n",
       "  </thead>\n",
       "  <tbody>\n",
       "    <tr>\n",
       "      <th>1</th>\n",
       "      <td>201404</td>\n",
       "      <td>0</td>\n",
       "      <td>0.0</td>\n",
       "      <td>0.0</td>\n",
       "      <td>0.0</td>\n",
       "      <td>0.0</td>\n",
       "      <td>124.54</td>\n",
       "      <td>3277.0</td>\n",
       "      <td>51.98</td>\n",
       "      <td>NaN</td>\n",
       "      <td>...</td>\n",
       "      <td>156.38</td>\n",
       "      <td>7.52</td>\n",
       "      <td>0.0</td>\n",
       "      <td>151.0</td>\n",
       "      <td>0.0</td>\n",
       "      <td>3.0</td>\n",
       "      <td>477.84</td>\n",
       "      <td>173.06</td>\n",
       "      <td>0.00</td>\n",
       "      <td>3.0</td>\n",
       "    </tr>\n",
       "    <tr>\n",
       "      <th>3</th>\n",
       "      <td>201405</td>\n",
       "      <td>0</td>\n",
       "      <td>99.0</td>\n",
       "      <td>2.0</td>\n",
       "      <td>2.0</td>\n",
       "      <td>2.0</td>\n",
       "      <td>80.38</td>\n",
       "      <td>1824.0</td>\n",
       "      <td>26.63</td>\n",
       "      <td>NaN</td>\n",
       "      <td>...</td>\n",
       "      <td>471.86</td>\n",
       "      <td>NaN</td>\n",
       "      <td>NaN</td>\n",
       "      <td>96.0</td>\n",
       "      <td>NaN</td>\n",
       "      <td>NaN</td>\n",
       "      <td>NaN</td>\n",
       "      <td>732.00</td>\n",
       "      <td>121.98</td>\n",
       "      <td>NaN</td>\n",
       "    </tr>\n",
       "    <tr>\n",
       "      <th>5</th>\n",
       "      <td>201403</td>\n",
       "      <td>1</td>\n",
       "      <td>0.0</td>\n",
       "      <td>0.0</td>\n",
       "      <td>0.0</td>\n",
       "      <td>0.0</td>\n",
       "      <td>70.46</td>\n",
       "      <td>437.0</td>\n",
       "      <td>40.69</td>\n",
       "      <td>10.99</td>\n",
       "      <td>...</td>\n",
       "      <td>NaN</td>\n",
       "      <td>NaN</td>\n",
       "      <td>0.0</td>\n",
       "      <td>75.0</td>\n",
       "      <td>0.0</td>\n",
       "      <td>0.0</td>\n",
       "      <td>914.45</td>\n",
       "      <td>NaN</td>\n",
       "      <td>NaN</td>\n",
       "      <td>0.0</td>\n",
       "    </tr>\n",
       "  </tbody>\n",
       "</table>\n",
       "<p>3 rows × 80 columns</p>\n",
       "</div>"
      ],
      "text/plain": [
       "     safra  y  var_1  var_2  var_3  var_4   var_5   var_6  var_7  var_8  ...  \\\n",
       "id                                                                       ...   \n",
       "1   201404  0    0.0    0.0    0.0    0.0  124.54  3277.0  51.98    NaN  ...   \n",
       "3   201405  0   99.0    2.0    2.0    2.0   80.38  1824.0  26.63    NaN  ...   \n",
       "5   201403  1    0.0    0.0    0.0    0.0   70.46   437.0  40.69  10.99  ...   \n",
       "\n",
       "    var_69  var_70  var_71  var_72  var_73  var_74  var_75  var_76  var_77  \\\n",
       "id                                                                           \n",
       "1   156.38    7.52     0.0   151.0     0.0     3.0  477.84  173.06    0.00   \n",
       "3   471.86     NaN     NaN    96.0     NaN     NaN     NaN  732.00  121.98   \n",
       "5      NaN     NaN     0.0    75.0     0.0     0.0  914.45     NaN     NaN   \n",
       "\n",
       "    var_78  \n",
       "id          \n",
       "1      3.0  \n",
       "3      NaN  \n",
       "5      0.0  \n",
       "\n",
       "[3 rows x 80 columns]"
      ]
     },
     "execution_count": 2,
     "metadata": {},
     "output_type": "execute_result"
    }
   ],
   "source": [
    "df0 = pd.read_csv(\"../data/base_modelo.csv\", index_col=\"id\")\n",
    "df0.columns = df0.columns.str.lower()\n",
    "test = df0[df0['safra']>=201407]\n",
    "df0 = df0[df0['safra']<=201406]\n",
    "print( df0.shape, test.shape )\n",
    "df0.head(3)"
   ]
  },
  {
   "cell_type": "markdown",
   "metadata": {},
   "source": [
    "# 1.0 Data Description"
   ]
  },
  {
   "attachments": {},
   "cell_type": "markdown",
   "metadata": {},
   "source": [
    "## 1.1 data types"
   ]
  },
  {
   "cell_type": "code",
   "execution_count": 3,
   "metadata": {},
   "outputs": [],
   "source": [
    "df1 = df0.copy()"
   ]
  },
  {
   "cell_type": "code",
   "execution_count": 4,
   "metadata": {},
   "outputs": [
    {
     "data": {
      "text/plain": [
       "2"
      ]
     },
     "execution_count": 4,
     "metadata": {},
     "output_type": "execute_result"
    }
   ],
   "source": [
    "df1.dtypes.nunique()"
   ]
  },
  {
   "cell_type": "code",
   "execution_count": 5,
   "metadata": {},
   "outputs": [
    {
     "data": {
      "text/plain": [
       "safra       int64\n",
       "y           int64\n",
       "var_1     float64\n",
       "var_2     float64\n",
       "var_3     float64\n",
       "           ...   \n",
       "var_74    float64\n",
       "var_75    float64\n",
       "var_76    float64\n",
       "var_77    float64\n",
       "var_78    float64\n",
       "Length: 80, dtype: object"
      ]
     },
     "execution_count": 5,
     "metadata": {},
     "output_type": "execute_result"
    }
   ],
   "source": [
    "df1.dtypes"
   ]
  },
  {
   "cell_type": "markdown",
   "metadata": {},
   "source": [
    "## 1.2 null values"
   ]
  },
  {
   "cell_type": "code",
   "execution_count": 6,
   "metadata": {},
   "outputs": [
    {
     "data": {
      "text/plain": [
       "var_62    0.792079\n",
       "var_70    0.784195\n",
       "var_61    0.723322\n",
       "var_49    0.694903\n",
       "var_36    0.685552\n",
       "            ...   \n",
       "var_60    0.000000\n",
       "var_57    0.000000\n",
       "var_20    0.000000\n",
       "var_32    0.000000\n",
       "safra     0.000000\n",
       "Length: 80, dtype: float64"
      ]
     },
     "execution_count": 6,
     "metadata": {},
     "output_type": "execute_result"
    }
   ],
   "source": [
    "(df1.isnull().sum()/len(df1)).sort_values(ascending=False)"
   ]
  },
  {
   "cell_type": "markdown",
   "metadata": {},
   "source": [
    "## 1.3 data dimension"
   ]
  },
  {
   "cell_type": "code",
   "execution_count": 7,
   "metadata": {},
   "outputs": [
    {
     "data": {
      "text/plain": [
       "(5454, 80)"
      ]
     },
     "execution_count": 7,
     "metadata": {},
     "output_type": "execute_result"
    }
   ],
   "source": [
    "df1.shape"
   ]
  },
  {
   "attachments": {},
   "cell_type": "markdown",
   "metadata": {},
   "source": [
    "# 2.0 FEATURE ENGINEERING"
   ]
  },
  {
   "cell_type": "code",
   "execution_count": 8,
   "metadata": {},
   "outputs": [],
   "source": [
    "df2 = df1.copy()"
   ]
  },
  {
   "attachments": {},
   "cell_type": "markdown",
   "metadata": {},
   "source": [
    "# 3.0 FEATURE FILTERING"
   ]
  },
  {
   "cell_type": "code",
   "execution_count": 9,
   "metadata": {},
   "outputs": [],
   "source": [
    "df3 = df2.copy()"
   ]
  },
  {
   "cell_type": "markdown",
   "metadata": {},
   "source": [
    "# 4.0 EDA"
   ]
  },
  {
   "cell_type": "code",
   "execution_count": 10,
   "metadata": {},
   "outputs": [],
   "source": [
    "df4 = df3.copy()"
   ]
  },
  {
   "cell_type": "code",
   "execution_count": 11,
   "metadata": {},
   "outputs": [
    {
     "data": {
      "text/plain": [
       "0.27997799779978"
      ]
     },
     "execution_count": 11,
     "metadata": {},
     "output_type": "execute_result"
    }
   ],
   "source": [
    "df4['y'].mean()"
   ]
  },
  {
   "cell_type": "code",
   "execution_count": 12,
   "metadata": {},
   "outputs": [
    {
     "data": {
      "text/plain": [
       "201401    854\n",
       "201402    898\n",
       "201403    873\n",
       "201404    955\n",
       "201405    972\n",
       "201406    902\n",
       "Name: safra, dtype: int64"
      ]
     },
     "execution_count": 12,
     "metadata": {},
     "output_type": "execute_result"
    }
   ],
   "source": [
    "df4['safra'].value_counts().sort_index()"
   ]
  },
  {
   "attachments": {},
   "cell_type": "markdown",
   "metadata": {},
   "source": [
    "# 5.0 DATA PREPARATION"
   ]
  },
  {
   "attachments": {},
   "cell_type": "markdown",
   "metadata": {},
   "source": [
    "## 5.1 Split into train and test"
   ]
  },
  {
   "cell_type": "code",
   "execution_count": 13,
   "metadata": {},
   "outputs": [],
   "source": [
    "df5 = df4.copy()\n",
    "Xtrain, ytrain = df5.drop(['y'], axis=1) , df5['y']\n",
    "Xtest, ytest = test.drop(['y'], axis=1) , test['y']\n",
    "\n",
    "Xtrain5, Xtest5 = Xtrain.copy(), Xtest.copy()"
   ]
  },
  {
   "cell_type": "code",
   "execution_count": 14,
   "metadata": {},
   "outputs": [
    {
     "name": "stderr",
     "output_type": "stream",
     "text": [
      "C:\\Users\\kosmo\\AppData\\Local\\Temp\\ipykernel_26020\\435276150.py:2: FutureWarning: In a future version, `df.iloc[:, i] = newvals` will attempt to set the values inplace instead of always setting a new array. To retain the old behavior, use either `df[df.columns[i]] = newvals` or, if columns are non-unique, `df.isetitem(i, newvals)`\n",
      "  Xtrain5.iloc[:,:] = minmax.fit_transform(Xtrain.values)\n",
      "C:\\Users\\kosmo\\AppData\\Local\\Temp\\ipykernel_26020\\435276150.py:6: FutureWarning: In a future version, `df.iloc[:, i] = newvals` will attempt to set the values inplace instead of always setting a new array. To retain the old behavior, use either `df[df.columns[i]] = newvals` or, if columns are non-unique, `df.isetitem(i, newvals)`\n",
      "  Xtest5.iloc[:,:] = minmax.transform(Xtest.values)\n"
     ]
    },
    {
     "data": {
      "text/html": [
       "<div>\n",
       "<style scoped>\n",
       "    .dataframe tbody tr th:only-of-type {\n",
       "        vertical-align: middle;\n",
       "    }\n",
       "\n",
       "    .dataframe tbody tr th {\n",
       "        vertical-align: top;\n",
       "    }\n",
       "\n",
       "    .dataframe thead th {\n",
       "        text-align: right;\n",
       "    }\n",
       "</style>\n",
       "<table border=\"1\" class=\"dataframe\">\n",
       "  <thead>\n",
       "    <tr style=\"text-align: right;\">\n",
       "      <th></th>\n",
       "      <th>safra</th>\n",
       "      <th>var_1</th>\n",
       "      <th>var_2</th>\n",
       "      <th>var_3</th>\n",
       "      <th>var_4</th>\n",
       "      <th>var_5</th>\n",
       "      <th>var_6</th>\n",
       "      <th>var_7</th>\n",
       "      <th>var_8</th>\n",
       "      <th>var_9</th>\n",
       "      <th>...</th>\n",
       "      <th>var_69</th>\n",
       "      <th>var_70</th>\n",
       "      <th>var_71</th>\n",
       "      <th>var_72</th>\n",
       "      <th>var_73</th>\n",
       "      <th>var_74</th>\n",
       "      <th>var_75</th>\n",
       "      <th>var_76</th>\n",
       "      <th>var_77</th>\n",
       "      <th>var_78</th>\n",
       "    </tr>\n",
       "    <tr>\n",
       "      <th>id</th>\n",
       "      <th></th>\n",
       "      <th></th>\n",
       "      <th></th>\n",
       "      <th></th>\n",
       "      <th></th>\n",
       "      <th></th>\n",
       "      <th></th>\n",
       "      <th></th>\n",
       "      <th></th>\n",
       "      <th></th>\n",
       "      <th></th>\n",
       "      <th></th>\n",
       "      <th></th>\n",
       "      <th></th>\n",
       "      <th></th>\n",
       "      <th></th>\n",
       "      <th></th>\n",
       "      <th></th>\n",
       "      <th></th>\n",
       "      <th></th>\n",
       "      <th></th>\n",
       "    </tr>\n",
       "  </thead>\n",
       "  <tbody>\n",
       "    <tr>\n",
       "      <th>1</th>\n",
       "      <td>0.6</td>\n",
       "      <td>0.000000</td>\n",
       "      <td>0.000000</td>\n",
       "      <td>0.000000</td>\n",
       "      <td>0.000000</td>\n",
       "      <td>0.161571</td>\n",
       "      <td>0.007693</td>\n",
       "      <td>0.066304</td>\n",
       "      <td>NaN</td>\n",
       "      <td>0.122807</td>\n",
       "      <td>...</td>\n",
       "      <td>0.038630</td>\n",
       "      <td>0.152165</td>\n",
       "      <td>0.0</td>\n",
       "      <td>0.067891</td>\n",
       "      <td>0.0</td>\n",
       "      <td>0.1875</td>\n",
       "      <td>0.055649</td>\n",
       "      <td>0.138679</td>\n",
       "      <td>0.000000</td>\n",
       "      <td>0.1875</td>\n",
       "    </tr>\n",
       "    <tr>\n",
       "      <th>3</th>\n",
       "      <td>0.8</td>\n",
       "      <td>0.475962</td>\n",
       "      <td>0.142857</td>\n",
       "      <td>0.181818</td>\n",
       "      <td>0.166667</td>\n",
       "      <td>0.103821</td>\n",
       "      <td>0.004330</td>\n",
       "      <td>0.033962</td>\n",
       "      <td>NaN</td>\n",
       "      <td>0.611702</td>\n",
       "      <td>...</td>\n",
       "      <td>0.121321</td>\n",
       "      <td>NaN</td>\n",
       "      <td>NaN</td>\n",
       "      <td>0.053248</td>\n",
       "      <td>NaN</td>\n",
       "      <td>NaN</td>\n",
       "      <td>NaN</td>\n",
       "      <td>0.212552</td>\n",
       "      <td>0.103907</td>\n",
       "      <td>NaN</td>\n",
       "    </tr>\n",
       "    <tr>\n",
       "      <th>5</th>\n",
       "      <td>0.4</td>\n",
       "      <td>0.000000</td>\n",
       "      <td>0.000000</td>\n",
       "      <td>0.000000</td>\n",
       "      <td>0.000000</td>\n",
       "      <td>0.090848</td>\n",
       "      <td>0.001120</td>\n",
       "      <td>0.051900</td>\n",
       "      <td>0.018195</td>\n",
       "      <td>0.649123</td>\n",
       "      <td>...</td>\n",
       "      <td>NaN</td>\n",
       "      <td>NaN</td>\n",
       "      <td>0.0</td>\n",
       "      <td>0.047657</td>\n",
       "      <td>0.0</td>\n",
       "      <td>0.0000</td>\n",
       "      <td>0.111482</td>\n",
       "      <td>NaN</td>\n",
       "      <td>NaN</td>\n",
       "      <td>0.0000</td>\n",
       "    </tr>\n",
       "    <tr>\n",
       "      <th>6</th>\n",
       "      <td>0.8</td>\n",
       "      <td>0.293269</td>\n",
       "      <td>0.000000</td>\n",
       "      <td>0.363636</td>\n",
       "      <td>0.083333</td>\n",
       "      <td>NaN</td>\n",
       "      <td>0.000433</td>\n",
       "      <td>0.050803</td>\n",
       "      <td>0.098757</td>\n",
       "      <td>0.087719</td>\n",
       "      <td>...</td>\n",
       "      <td>NaN</td>\n",
       "      <td>NaN</td>\n",
       "      <td>NaN</td>\n",
       "      <td>0.029020</td>\n",
       "      <td>NaN</td>\n",
       "      <td>NaN</td>\n",
       "      <td>NaN</td>\n",
       "      <td>NaN</td>\n",
       "      <td>NaN</td>\n",
       "      <td>NaN</td>\n",
       "    </tr>\n",
       "    <tr>\n",
       "      <th>7</th>\n",
       "      <td>0.6</td>\n",
       "      <td>0.245192</td>\n",
       "      <td>0.000000</td>\n",
       "      <td>0.000000</td>\n",
       "      <td>0.083333</td>\n",
       "      <td>NaN</td>\n",
       "      <td>0.000613</td>\n",
       "      <td>0.065666</td>\n",
       "      <td>0.094939</td>\n",
       "      <td>0.281902</td>\n",
       "      <td>...</td>\n",
       "      <td>NaN</td>\n",
       "      <td>NaN</td>\n",
       "      <td>NaN</td>\n",
       "      <td>0.029819</td>\n",
       "      <td>NaN</td>\n",
       "      <td>NaN</td>\n",
       "      <td>NaN</td>\n",
       "      <td>NaN</td>\n",
       "      <td>NaN</td>\n",
       "      <td>NaN</td>\n",
       "    </tr>\n",
       "  </tbody>\n",
       "</table>\n",
       "<p>5 rows × 79 columns</p>\n",
       "</div>"
      ],
      "text/plain": [
       "    safra     var_1     var_2     var_3     var_4     var_5     var_6  \\\n",
       "id                                                                      \n",
       "1     0.6  0.000000  0.000000  0.000000  0.000000  0.161571  0.007693   \n",
       "3     0.8  0.475962  0.142857  0.181818  0.166667  0.103821  0.004330   \n",
       "5     0.4  0.000000  0.000000  0.000000  0.000000  0.090848  0.001120   \n",
       "6     0.8  0.293269  0.000000  0.363636  0.083333       NaN  0.000433   \n",
       "7     0.6  0.245192  0.000000  0.000000  0.083333       NaN  0.000613   \n",
       "\n",
       "       var_7     var_8     var_9  ...    var_69    var_70  var_71    var_72  \\\n",
       "id                                ...                                         \n",
       "1   0.066304       NaN  0.122807  ...  0.038630  0.152165     0.0  0.067891   \n",
       "3   0.033962       NaN  0.611702  ...  0.121321       NaN     NaN  0.053248   \n",
       "5   0.051900  0.018195  0.649123  ...       NaN       NaN     0.0  0.047657   \n",
       "6   0.050803  0.098757  0.087719  ...       NaN       NaN     NaN  0.029020   \n",
       "7   0.065666  0.094939  0.281902  ...       NaN       NaN     NaN  0.029819   \n",
       "\n",
       "    var_73  var_74    var_75    var_76    var_77  var_78  \n",
       "id                                                        \n",
       "1      0.0  0.1875  0.055649  0.138679  0.000000  0.1875  \n",
       "3      NaN     NaN       NaN  0.212552  0.103907     NaN  \n",
       "5      0.0  0.0000  0.111482       NaN       NaN  0.0000  \n",
       "6      NaN     NaN       NaN       NaN       NaN     NaN  \n",
       "7      NaN     NaN       NaN       NaN       NaN     NaN  \n",
       "\n",
       "[5 rows x 79 columns]"
      ]
     },
     "execution_count": 14,
     "metadata": {},
     "output_type": "execute_result"
    }
   ],
   "source": [
    "minmax = MinMaxScaler()\n",
    "Xtrain5.iloc[:,:] = minmax.fit_transform(Xtrain.values)\n",
    "pickle.dump( minmax, open( f'../parameters/{minmax.__class__.__name__}_scaler.pkl', 'wb') )\n",
    "\n",
    "minmax = pd.read_pickle(f\"../parameters/{minmax.__class__.__name__}_scaler.pkl\")\n",
    "Xtest5.iloc[:,:] = minmax.transform(Xtest.values)\n",
    "\n",
    "Xtrain5.head()"
   ]
  },
  {
   "attachments": {},
   "cell_type": "markdown",
   "metadata": {},
   "source": [
    "# 6.0 FEATURE SELECTION"
   ]
  },
  {
   "cell_type": "code",
   "execution_count": 15,
   "metadata": {},
   "outputs": [],
   "source": [
    "Xtrain6 = Xtrain5.copy()\n",
    "Xtest6 = Xtest5.copy()"
   ]
  },
  {
   "cell_type": "markdown",
   "metadata": {},
   "source": [
    "# 7.0 Machine Learning Modeling"
   ]
  },
  {
   "cell_type": "code",
   "execution_count": 16,
   "metadata": {},
   "outputs": [
    {
     "data": {
      "text/plain": [
       "(array([0.71965427, 0.26515152]),\n",
       " array([0.97529921, 0.02292076]),\n",
       " array([0.82819764, 0.04219409]),\n",
       " array([3927, 1527], dtype=int64))"
      ]
     },
     "execution_count": 16,
     "metadata": {},
     "output_type": "execute_result"
    }
   ],
   "source": [
    "#model\n",
    "xgbc = XGBClassifier( n_estimators=100, random_state=42, objective='binary:logistic').fit( Xtrain, ytrain )\n",
    "\n",
    "ypred = xgbc.predict(Xtrain6)\n",
    "\n",
    "precision_recall_fscore_support(ytrain, ypred)"
   ]
  },
  {
   "cell_type": "code",
   "execution_count": 17,
   "metadata": {},
   "outputs": [
    {
     "data": {
      "text/plain": [
       "(array([0.69424744, 0.23557692]),\n",
       " array([0.95682867, 0.03060587]),\n",
       " array([0.80465807, 0.05417358]),\n",
       " array([3683, 1601], dtype=int64))"
      ]
     },
     "execution_count": 17,
     "metadata": {},
     "output_type": "execute_result"
    }
   ],
   "source": [
    "ypred = xgbc.predict(Xtest6)\n",
    "\n",
    "precision_recall_fscore_support(ytest, ypred)"
   ]
  },
  {
   "cell_type": "code",
   "execution_count": 18,
   "metadata": {},
   "outputs": [
    {
     "data": {
      "text/plain": [
       "<AxesSubplot: title={'center': 'Feature importance'}, xlabel='F score', ylabel='Features'>"
      ]
     },
     "execution_count": 18,
     "metadata": {},
     "output_type": "execute_result"
    },
    {
     "data": {
      "image/png": "[encoded data removed]",
      "text/plain": [
       "<Figure size 640x480 with 1 Axes>"
      ]
     },
     "metadata": {},
     "output_type": "display_data"
    }
   ],
   "source": [
    "plot_importance(xgbc)"
   ]
  },
  {
   "cell_type": "code",
   "execution_count": 19,
   "metadata": {},
   "outputs": [
    {
     "data": {
      "text/html": [
       "<div>\n",
       "<style scoped>\n",
       "    .dataframe tbody tr th:only-of-type {\n",
       "        vertical-align: middle;\n",
       "    }\n",
       "\n",
       "    .dataframe tbody tr th {\n",
       "        vertical-align: top;\n",
       "    }\n",
       "\n",
       "    .dataframe thead th {\n",
       "        text-align: right;\n",
       "    }\n",
       "</style>\n",
       "<table border=\"1\" class=\"dataframe\">\n",
       "  <thead>\n",
       "    <tr style=\"text-align: right;\">\n",
       "      <th></th>\n",
       "      <th>safra</th>\n",
       "      <th>var_1</th>\n",
       "      <th>var_2</th>\n",
       "      <th>var_3</th>\n",
       "      <th>var_4</th>\n",
       "      <th>var_5</th>\n",
       "      <th>var_6</th>\n",
       "      <th>var_7</th>\n",
       "      <th>var_8</th>\n",
       "      <th>var_9</th>\n",
       "      <th>...</th>\n",
       "      <th>var_69</th>\n",
       "      <th>var_70</th>\n",
       "      <th>var_71</th>\n",
       "      <th>var_72</th>\n",
       "      <th>var_73</th>\n",
       "      <th>var_74</th>\n",
       "      <th>var_75</th>\n",
       "      <th>var_76</th>\n",
       "      <th>var_77</th>\n",
       "      <th>var_78</th>\n",
       "    </tr>\n",
       "    <tr>\n",
       "      <th>id</th>\n",
       "      <th></th>\n",
       "      <th></th>\n",
       "      <th></th>\n",
       "      <th></th>\n",
       "      <th></th>\n",
       "      <th></th>\n",
       "      <th></th>\n",
       "      <th></th>\n",
       "      <th></th>\n",
       "      <th></th>\n",
       "      <th></th>\n",
       "      <th></th>\n",
       "      <th></th>\n",
       "      <th></th>\n",
       "      <th></th>\n",
       "      <th></th>\n",
       "      <th></th>\n",
       "      <th></th>\n",
       "      <th></th>\n",
       "      <th></th>\n",
       "      <th></th>\n",
       "    </tr>\n",
       "  </thead>\n",
       "  <tbody>\n",
       "    <tr>\n",
       "      <th>1</th>\n",
       "      <td>0.6</td>\n",
       "      <td>0.000000</td>\n",
       "      <td>0.000000</td>\n",
       "      <td>0.000000</td>\n",
       "      <td>0.000000</td>\n",
       "      <td>0.161571</td>\n",
       "      <td>0.007693</td>\n",
       "      <td>0.066304</td>\n",
       "      <td>NaN</td>\n",
       "      <td>0.122807</td>\n",
       "      <td>...</td>\n",
       "      <td>0.038630</td>\n",
       "      <td>0.152165</td>\n",
       "      <td>0.0</td>\n",
       "      <td>0.067891</td>\n",
       "      <td>0.0</td>\n",
       "      <td>0.1875</td>\n",
       "      <td>0.055649</td>\n",
       "      <td>0.138679</td>\n",
       "      <td>0.000000</td>\n",
       "      <td>0.1875</td>\n",
       "    </tr>\n",
       "    <tr>\n",
       "      <th>3</th>\n",
       "      <td>0.8</td>\n",
       "      <td>0.475962</td>\n",
       "      <td>0.142857</td>\n",
       "      <td>0.181818</td>\n",
       "      <td>0.166667</td>\n",
       "      <td>0.103821</td>\n",
       "      <td>0.004330</td>\n",
       "      <td>0.033962</td>\n",
       "      <td>NaN</td>\n",
       "      <td>0.611702</td>\n",
       "      <td>...</td>\n",
       "      <td>0.121321</td>\n",
       "      <td>NaN</td>\n",
       "      <td>NaN</td>\n",
       "      <td>0.053248</td>\n",
       "      <td>NaN</td>\n",
       "      <td>NaN</td>\n",
       "      <td>NaN</td>\n",
       "      <td>0.212552</td>\n",
       "      <td>0.103907</td>\n",
       "      <td>NaN</td>\n",
       "    </tr>\n",
       "    <tr>\n",
       "      <th>5</th>\n",
       "      <td>0.4</td>\n",
       "      <td>0.000000</td>\n",
       "      <td>0.000000</td>\n",
       "      <td>0.000000</td>\n",
       "      <td>0.000000</td>\n",
       "      <td>0.090848</td>\n",
       "      <td>0.001120</td>\n",
       "      <td>0.051900</td>\n",
       "      <td>0.018195</td>\n",
       "      <td>0.649123</td>\n",
       "      <td>...</td>\n",
       "      <td>NaN</td>\n",
       "      <td>NaN</td>\n",
       "      <td>0.0</td>\n",
       "      <td>0.047657</td>\n",
       "      <td>0.0</td>\n",
       "      <td>0.0000</td>\n",
       "      <td>0.111482</td>\n",
       "      <td>NaN</td>\n",
       "      <td>NaN</td>\n",
       "      <td>0.0000</td>\n",
       "    </tr>\n",
       "    <tr>\n",
       "      <th>6</th>\n",
       "      <td>0.8</td>\n",
       "      <td>0.293269</td>\n",
       "      <td>0.000000</td>\n",
       "      <td>0.363636</td>\n",
       "      <td>0.083333</td>\n",
       "      <td>NaN</td>\n",
       "      <td>0.000433</td>\n",
       "      <td>0.050803</td>\n",
       "      <td>0.098757</td>\n",
       "      <td>0.087719</td>\n",
       "      <td>...</td>\n",
       "      <td>NaN</td>\n",
       "      <td>NaN</td>\n",
       "      <td>NaN</td>\n",
       "      <td>0.029020</td>\n",
       "      <td>NaN</td>\n",
       "      <td>NaN</td>\n",
       "      <td>NaN</td>\n",
       "      <td>NaN</td>\n",
       "      <td>NaN</td>\n",
       "      <td>NaN</td>\n",
       "    </tr>\n",
       "    <tr>\n",
       "      <th>7</th>\n",
       "      <td>0.6</td>\n",
       "      <td>0.245192</td>\n",
       "      <td>0.000000</td>\n",
       "      <td>0.000000</td>\n",
       "      <td>0.083333</td>\n",
       "      <td>NaN</td>\n",
       "      <td>0.000613</td>\n",
       "      <td>0.065666</td>\n",
       "      <td>0.094939</td>\n",
       "      <td>0.281902</td>\n",
       "      <td>...</td>\n",
       "      <td>NaN</td>\n",
       "      <td>NaN</td>\n",
       "      <td>NaN</td>\n",
       "      <td>0.029819</td>\n",
       "      <td>NaN</td>\n",
       "      <td>NaN</td>\n",
       "      <td>NaN</td>\n",
       "      <td>NaN</td>\n",
       "      <td>NaN</td>\n",
       "      <td>NaN</td>\n",
       "    </tr>\n",
       "  </tbody>\n",
       "</table>\n",
       "<p>5 rows × 79 columns</p>\n",
       "</div>"
      ],
      "text/plain": [
       "    safra     var_1     var_2     var_3     var_4     var_5     var_6  \\\n",
       "id                                                                      \n",
       "1     0.6  0.000000  0.000000  0.000000  0.000000  0.161571  0.007693   \n",
       "3     0.8  0.475962  0.142857  0.181818  0.166667  0.103821  0.004330   \n",
       "5     0.4  0.000000  0.000000  0.000000  0.000000  0.090848  0.001120   \n",
       "6     0.8  0.293269  0.000000  0.363636  0.083333       NaN  0.000433   \n",
       "7     0.6  0.245192  0.000000  0.000000  0.083333       NaN  0.000613   \n",
       "\n",
       "       var_7     var_8     var_9  ...    var_69    var_70  var_71    var_72  \\\n",
       "id                                ...                                         \n",
       "1   0.066304       NaN  0.122807  ...  0.038630  0.152165     0.0  0.067891   \n",
       "3   0.033962       NaN  0.611702  ...  0.121321       NaN     NaN  0.053248   \n",
       "5   0.051900  0.018195  0.649123  ...       NaN       NaN     0.0  0.047657   \n",
       "6   0.050803  0.098757  0.087719  ...       NaN       NaN     NaN  0.029020   \n",
       "7   0.065666  0.094939  0.281902  ...       NaN       NaN     NaN  0.029819   \n",
       "\n",
       "    var_73  var_74    var_75    var_76    var_77  var_78  \n",
       "id                                                        \n",
       "1      0.0  0.1875  0.055649  0.138679  0.000000  0.1875  \n",
       "3      NaN     NaN       NaN  0.212552  0.103907     NaN  \n",
       "5      0.0  0.0000  0.111482       NaN       NaN  0.0000  \n",
       "6      NaN     NaN       NaN       NaN       NaN     NaN  \n",
       "7      NaN     NaN       NaN       NaN       NaN     NaN  \n",
       "\n",
       "[5 rows x 79 columns]"
      ]
     },
     "execution_count": 19,
     "metadata": {},
     "output_type": "execute_result"
    }
   ],
   "source": [
    "Xtrain6.head()"
   ]
  },
  {
   "cell_type": "code",
   "execution_count": 20,
   "metadata": {},
   "outputs": [
    {
     "name": "stderr",
     "output_type": "stream",
     "text": [
      "100%|██████████| 29/29 [00:35<00:00,  1.24s/it]"
     ]
    },
    {
     "name": "stdout",
     "output_type": "stream",
     "text": [
      "                               Accuracy  Balanced Accuracy  ROC AUC  F1 Score  \\\n",
      "Model                                                                           \n",
      "BernoulliNB                        0.68               0.64     0.64      0.68   \n",
      "NearestCentroid                    0.71               0.63     0.63      0.70   \n",
      "GaussianNB                         0.59               0.62     0.62      0.60   \n",
      "QuadraticDiscriminantAnalysis      0.64               0.62     0.62      0.65   \n",
      "LogisticRegression                 0.72               0.57     0.57      0.66   \n",
      "Perceptron                         0.66               0.57     0.57      0.65   \n",
      "LinearDiscriminantAnalysis         0.72               0.56     0.56      0.66   \n",
      "XGBClassifier                      0.72               0.56     0.56      0.66   \n",
      "LinearSVC                          0.72               0.56     0.56      0.66   \n",
      "LGBMClassifier                     0.72               0.56     0.56      0.65   \n",
      "CalibratedClassifierCV             0.72               0.56     0.56      0.65   \n",
      "RidgeClassifier                    0.72               0.56     0.56      0.65   \n",
      "RidgeClassifierCV                  0.72               0.56     0.56      0.65   \n",
      "LabelSpreading                     0.69               0.56     0.56      0.65   \n",
      "LabelPropagation                   0.69               0.56     0.56      0.65   \n",
      "AdaBoostClassifier                 0.71               0.56     0.56      0.65   \n",
      "KNeighborsClassifier               0.69               0.55     0.55      0.65   \n",
      "ExtraTreeClassifier                0.65               0.55     0.55      0.64   \n",
      "SGDClassifier                      0.70               0.55     0.55      0.64   \n",
      "DecisionTreeClassifier             0.64               0.55     0.55      0.63   \n",
      "ExtraTreesClassifier               0.72               0.55     0.55      0.64   \n",
      "RandomForestClassifier             0.72               0.54     0.54      0.63   \n",
      "PassiveAggressiveClassifier        0.70               0.54     0.54      0.64   \n",
      "BaggingClassifier                  0.70               0.54     0.54      0.63   \n",
      "SVC                                0.71               0.53     0.53      0.62   \n",
      "NuSVC                              0.70               0.52     0.52      0.60   \n",
      "DummyClassifier                    0.70               0.50     0.50      0.57   \n",
      "\n",
      "                               Time Taken  \n",
      "Model                                      \n",
      "BernoulliNB                          0.07  \n",
      "NearestCentroid                      0.06  \n",
      "GaussianNB                           0.08  \n",
      "QuadraticDiscriminantAnalysis        0.20  \n",
      "LogisticRegression                   0.19  \n",
      "Perceptron                           0.07  \n",
      "LinearDiscriminantAnalysis           0.18  \n",
      "XGBClassifier                        0.94  \n",
      "LinearSVC                            1.23  \n",
      "LGBMClassifier                       0.49  \n",
      "CalibratedClassifierCV               4.56  \n",
      "RidgeClassifier                      0.08  \n",
      "RidgeClassifierCV                    0.15  \n",
      "LabelSpreading                       4.33  \n",
      "LabelPropagation                     3.86  \n",
      "AdaBoostClassifier                   1.71  \n",
      "KNeighborsClassifier                 0.60  \n",
      "ExtraTreeClassifier                  0.07  \n",
      "SGDClassifier                        0.16  \n",
      "DecisionTreeClassifier               0.35  \n",
      "ExtraTreesClassifier                 1.50  \n",
      "RandomForestClassifier               3.05  \n",
      "PassiveAggressiveClassifier          0.09  \n",
      "BaggingClassifier                    2.94  \n",
      "SVC                                  4.45  \n",
      "NuSVC                                4.42  \n",
      "DummyClassifier                      0.06  \n"
     ]
    },
    {
     "name": "stderr",
     "output_type": "stream",
     "text": [
      "\n"
     ]
    }
   ],
   "source": [
    "from lazypredict.Supervised import LazyClassifier\n",
    "\n",
    "clf = LazyClassifier(verbose=0,ignore_warnings=True, custom_metric=None, random_state=42)\n",
    "models,predictions = clf.fit(Xtrain6, Xtest6, ytrain, ytest)\n",
    "\n",
    "print(models)"
   ]
  },
  {
   "attachments": {},
   "cell_type": "markdown",
   "metadata": {},
   "source": [
    "# 8.0 Hyperparameter Tuning"
   ]
  },
  {
   "cell_type": "markdown",
   "metadata": {},
   "source": [
    "# 9.0 Deploy to Production"
   ]
  },
  {
   "cell_type": "code",
   "execution_count": null,
   "metadata": {},
   "outputs": [],
   "source": []
  }
 ],
 "metadata": {
  "kernelspec": {
   "display_name": "picpay_env",
   "language": "python",
   "name": "python3"
  },
  "language_info": {
   "codemirror_mode": {
    "name": "ipython",
    "version": 3
   },
   "file_extension": ".py",
   "mimetype": "text/x-python",
   "name": "python",
   "nbconvert_exporter": "python",
   "pygments_lexer": "ipython3",
   "version": "3.10.4"
  },
  "toc-autonumbering": true,
  "toc-showmarkdowntxt": true,
  "toc-showtags": false,
  "vscode": {
   "interpreter": {
    "hash": "ea71819249b692f77a0043d29487f5401da217b2ca6f03a53fdff75368b7c39f"
   }
  }
 },
 "nbformat": 4,
 "nbformat_minor": 4
}
